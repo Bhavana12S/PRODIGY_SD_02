{
  "nbformat": 4,
  "nbformat_minor": 0,
  "metadata": {
    "colab": {
      "provenance": [],
      "authorship_tag": "ABX9TyPdPz+F1NAuwGJ9wFHxKiij",
      "include_colab_link": true
    },
    "kernelspec": {
      "name": "python3",
      "display_name": "Python 3"
    },
    "language_info": {
      "name": "python"
    }
  },
  "cells": [
    {
      "cell_type": "markdown",
      "metadata": {
        "id": "view-in-github",
        "colab_type": "text"
      },
      "source": [
        "<a href=\"https://colab.research.google.com/github/Bhavana12S/PRODIGY_SD_02/blob/main/PRODIGY_SD_02.ipynb\" target=\"_parent\"><img src=\"https://colab.research.google.com/assets/colab-badge.svg\" alt=\"Open In Colab\"/></a>"
      ]
    },
    {
      "cell_type": "code",
      "execution_count": 1,
      "metadata": {
        "id": "IKTUH49cXgr_",
        "colab": {
          "base_uri": "https://localhost:8080/"
        },
        "outputId": "ec4f4bef-7fe8-4c8d-d8d4-780c9e96c38e"
      },
      "outputs": [
        {
          "output_type": "stream",
          "name": "stdout",
          "text": [
            "Welcome to 'Guess the Number' game!\n",
            "I have picked a number between 1 and 100. Try to guess it!\n",
            "Enter your guess: 6\n",
            "Too low! Try again.\n",
            "Enter your guess: 90\n",
            "Too high! Try again.\n",
            "Enter your guess: 80\n",
            "Too high! Try again.\n",
            "Enter your guess: 70\n",
            "Too high! Try again.\n",
            "Enter your guess: 60\n",
            "Too high! Try again.\n",
            "Enter your guess: 50\n",
            "Too high! Try again.\n",
            "Enter your guess: 40\n",
            "Too high! Try again.\n",
            "Enter your guess: 30\n",
            "Too low! Try again.\n",
            "Enter your guess: 35\n",
            "Too low! Try again.\n",
            "Enter your guess: 37\n",
            "Too low! Try again.\n",
            "Enter your guess: 38\n",
            "Congratulations! You've guessed the number 38 in 11 attempts.\n"
          ]
        }
      ],
      "source": [
        "import random\n",
        "\n",
        "def guess_the_number():\n",
        "    # Generate a random number between 1 and 100\n",
        "    number_to_guess = random.randint(1, 100)\n",
        "    attempts = 0\n",
        "    guess = None\n",
        "\n",
        "    print(\"Welcome to 'Guess the Number' game!\")\n",
        "    print(\"I have picked a number between 1 and 100. Try to guess it!\")\n",
        "\n",
        "    while guess != number_to_guess:\n",
        "        guess = int(input(\"Enter your guess: \"))\n",
        "        attempts += 1\n",
        "\n",
        "        if guess < number_to_guess:\n",
        "            print(\"Too low! Try again.\")\n",
        "        elif guess > number_to_guess:\n",
        "            print(\"Too high! Try again.\")\n",
        "        else:\n",
        "            print(f\"Congratulations! You've guessed the number {number_to_guess} in {attempts} attempts.\")\n",
        "\n",
        "# Run the game\n",
        "guess_the_number()\n"
      ]
    }
  ]
}